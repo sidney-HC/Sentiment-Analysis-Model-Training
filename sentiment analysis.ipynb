{
 "cells": [
  {
   "cell_type": "markdown",
   "metadata": {},
   "source": [
    "__Sidney Howard-Clinton__\n",
    "\n",
    "https://github.com/sidney-HC"
   ]
  },
  {
   "cell_type": "markdown",
   "metadata": {},
   "source": [
    "# Introduction\n",
    "In recent years, sentiment analysis has become a vital tool in understanding and interpreting the sentiments expressed in various forms of text data. This project focuses on leveraging sentiment analysis to evaluate sentiments from three distinct and widely recognized datasets: the Sentiment 140 dataset, the IMDB movie review dataset, and a subset of the Amazon review dataset. These datasets collectively encompass a vast range of textual data, including tweets, movie reviews, and product reviews, providing a comprehensive basis for sentiment analysis.\n",
    "\n",
    "The Sentiment 140 dataset contains 1.6 million tweets, capturing the sentiments expressed by users on the Twitter platform. The IMDB movie review dataset includes 50,000 reviews, offering insights into public opinions about various movies. Additionally, a subset of the Amazon review dataset with 3.6 million reviews provides a rich source of consumer feedback on products. The primary objective of this project is to develop a robust sentiment analysis model capable of accurately predicting the sentiment (positive or negative) expressed in these texts.\n"
   ]
  },
  {
   "cell_type": "markdown",
   "metadata": {},
   "source": [
    "# Methodology\n",
    "\n",
    "The methodology for this project involves several key steps, including data collection, preprocessing, model training, and evaluation. Here, we detail each of these steps to provide a comprehensive understanding of the approach.\n",
    "\n",
    "## Data Collection\n",
    "\n",
    "The datasets used in this project were sourced from publicly available repositories:\n",
    "\n",
    "1. **Sentiment 140 Dataset**: Contains 1.6 million tweets labeled as positive or negative.\n",
    "2. **IMDB Movie Review Dataset**: Comprises 50,000 movie reviews, equally split between positive and negative sentiments.\n",
    "3. **Amazon Review Dataset**: A subset consisting of 3.6 million product reviews, categorized into positive and negative sentiments.\n",
    "\n",
    "These datasets were combined to form a unified dataset, ensuring a diverse and extensive representation of textual data.\n",
    "\n",
    "## Data Preprocessing\n",
    "\n",
    "Preprocessing the data involved several critical steps to clean and prepare the text for analysis:\n",
    "\n",
    "1. **Handling Missing Values**: Any missing values in the text data were filled with an empty string to avoid errors during processing.\n",
    "2. **Text Normalization**: Text was converted to lowercase, contractions were expanded, and URLs, mentions, hashtags, non-word characters, sequences of underscores or dashes, and multiple spaces were removed using regular expressions.\n",
    "3. **Tokenization and Lemmatization**: Text was tokenized into words, stop words were removed, and words were lemmatized to their base forms to standardize the text and reduce dimensionality.\n",
    "\n",
    "Parallel processing was employed to expedite the preprocessing steps, utilizing multiple CPU cores to handle the large volume of text data efficiently.\n",
    "\n",
    "## Model Training and Evaluation\n",
    "\n",
    "The model training and evaluation process involved the following steps:\n",
    "\n",
    "1. **Data Splitting**: The combined dataset was shuffled and split into training and testing sets, with 80% of the data used for training and 20% for testing.\n",
    "2. **Pipeline Definition**: A pipeline was defined using TfidfVectorizer for feature extraction and Logistic Regression for classification. The TfidfVectorizer was configured to consider unigrams, bigrams, and trigrams.\n",
    "3. **Bayesian Optimization**: Bayesian optimization was employed to tune the hyperparameters of the TfidfVectorizer, specifically the maximum number of features. This approach efficiently searched for the best hyperparameters using a predefined parameter space and cross-validation.\n",
    "4. **Model Evaluation**: The model was evaluated on the test set, and its performance was assessed using metrics such as accuracy, confusion matrix, and classification report. A confusion matrix plot was generated to visualize the model's performance.\n",
    "\n",
    "This comprehensive methodology ensures that the sentiment analysis model is trained on diverse and extensive textual data, leading to robust and accurate sentiment predictions.\n"
   ]
  },
  {
   "cell_type": "code",
   "execution_count": 1,
   "metadata": {},
   "outputs": [
    {
     "data": {
      "text/plain": [
       "True"
      ]
     },
     "execution_count": 1,
     "metadata": {},
     "output_type": "execute_result"
    }
   ],
   "source": [
    "\n",
    "import matplotlib.pyplot as plt\n",
    "import seaborn as sns\n",
    "import pandas as pd\n",
    "import numpy as np\n",
    "import re\n",
    "import os\n",
    "import contractions\n",
    "import gc\n",
    "from skopt import BayesSearchCV\n",
    "from sklearn.pipeline import Pipeline\n",
    "from sklearn.model_selection import train_test_split, GridSearchCV\n",
    "from sklearn.feature_extraction.text import TfidfVectorizer\n",
    "from sklearn.linear_model import LogisticRegression\n",
    "from sklearn.metrics import accuracy_score, confusion_matrix, classification_report\n",
    "from joblib import Parallel, delayed\n",
    "import nltk\n",
    "from nltk.stem import WordNetLemmatizer\n",
    "from nltk.corpus import stopwords\n",
    "\n",
    "nltk.download('punkt', quiet=True)\n",
    "nltk.download('wordnet', quiet=True)\n",
    "nltk.download('stopwords', quiet=True)\n",
    "\n"
   ]
  },
  {
   "cell_type": "code",
   "execution_count": 2,
   "metadata": {},
   "outputs": [
    {
     "data": {
      "text/html": [
       "<div>\n",
       "<style scoped>\n",
       "    .dataframe tbody tr th:only-of-type {\n",
       "        vertical-align: middle;\n",
       "    }\n",
       "\n",
       "    .dataframe tbody tr th {\n",
       "        vertical-align: top;\n",
       "    }\n",
       "\n",
       "    .dataframe thead th {\n",
       "        text-align: right;\n",
       "    }\n",
       "</style>\n",
       "<table border=\"1\" class=\"dataframe\">\n",
       "  <thead>\n",
       "    <tr style=\"text-align: right;\">\n",
       "      <th></th>\n",
       "      <th>polarity</th>\n",
       "      <th>text</th>\n",
       "    </tr>\n",
       "  </thead>\n",
       "  <tbody>\n",
       "    <tr>\n",
       "      <th>0</th>\n",
       "      <td>-1</td>\n",
       "      <td>is upset that he can't update his Facebook by ...</td>\n",
       "    </tr>\n",
       "    <tr>\n",
       "      <th>1</th>\n",
       "      <td>-1</td>\n",
       "      <td>@Kenichan I dived many times for the ball. Man...</td>\n",
       "    </tr>\n",
       "    <tr>\n",
       "      <th>2</th>\n",
       "      <td>-1</td>\n",
       "      <td>my whole body feels itchy and like its on fire</td>\n",
       "    </tr>\n",
       "    <tr>\n",
       "      <th>3</th>\n",
       "      <td>-1</td>\n",
       "      <td>@nationwideclass no, it's not behaving at all....</td>\n",
       "    </tr>\n",
       "    <tr>\n",
       "      <th>4</th>\n",
       "      <td>-1</td>\n",
       "      <td>@Kwesidei not the whole crew</td>\n",
       "    </tr>\n",
       "  </tbody>\n",
       "</table>\n",
       "</div>"
      ],
      "text/plain": [
       "   polarity                                               text\n",
       "0        -1  is upset that he can't update his Facebook by ...\n",
       "1        -1  @Kenichan I dived many times for the ball. Man...\n",
       "2        -1    my whole body feels itchy and like its on fire \n",
       "3        -1  @nationwideclass no, it's not behaving at all....\n",
       "4        -1                      @Kwesidei not the whole crew "
      ]
     },
     "execution_count": 2,
     "metadata": {},
     "output_type": "execute_result"
    }
   ],
   "source": [
    "os.getcwd()\n",
    "sentiment_140_data = pd.read_csv('sentiment_140.csv')\n",
    "sentiment_140_data.head()"
   ]
  },
  {
   "cell_type": "code",
   "execution_count": 3,
   "metadata": {},
   "outputs": [
    {
     "data": {
      "text/html": [
       "<div>\n",
       "<style scoped>\n",
       "    .dataframe tbody tr th:only-of-type {\n",
       "        vertical-align: middle;\n",
       "    }\n",
       "\n",
       "    .dataframe tbody tr th {\n",
       "        vertical-align: top;\n",
       "    }\n",
       "\n",
       "    .dataframe thead th {\n",
       "        text-align: right;\n",
       "    }\n",
       "</style>\n",
       "<table border=\"1\" class=\"dataframe\">\n",
       "  <thead>\n",
       "    <tr style=\"text-align: right;\">\n",
       "      <th></th>\n",
       "      <th>review</th>\n",
       "      <th>sentiment</th>\n",
       "    </tr>\n",
       "  </thead>\n",
       "  <tbody>\n",
       "    <tr>\n",
       "      <th>0</th>\n",
       "      <td>One of the other reviewers has mentioned that ...</td>\n",
       "      <td>positive</td>\n",
       "    </tr>\n",
       "    <tr>\n",
       "      <th>1</th>\n",
       "      <td>A wonderful little production. &lt;br /&gt;&lt;br /&gt;The...</td>\n",
       "      <td>positive</td>\n",
       "    </tr>\n",
       "    <tr>\n",
       "      <th>2</th>\n",
       "      <td>I thought this was a wonderful way to spend ti...</td>\n",
       "      <td>positive</td>\n",
       "    </tr>\n",
       "    <tr>\n",
       "      <th>3</th>\n",
       "      <td>Basically there's a family where a little boy ...</td>\n",
       "      <td>negative</td>\n",
       "    </tr>\n",
       "    <tr>\n",
       "      <th>4</th>\n",
       "      <td>Petter Mattei's \"Love in the Time of Money\" is...</td>\n",
       "      <td>positive</td>\n",
       "    </tr>\n",
       "  </tbody>\n",
       "</table>\n",
       "</div>"
      ],
      "text/plain": [
       "                                              review sentiment\n",
       "0  One of the other reviewers has mentioned that ...  positive\n",
       "1  A wonderful little production. <br /><br />The...  positive\n",
       "2  I thought this was a wonderful way to spend ti...  positive\n",
       "3  Basically there's a family where a little boy ...  negative\n",
       "4  Petter Mattei's \"Love in the Time of Money\" is...  positive"
      ]
     },
     "execution_count": 3,
     "metadata": {},
     "output_type": "execute_result"
    }
   ],
   "source": [
    "imdb_data = pd.read_csv('IMDB Dataset.csv')\n",
    "imdb_data.head()"
   ]
  },
  {
   "cell_type": "code",
   "execution_count": 4,
   "metadata": {},
   "outputs": [
    {
     "data": {
      "text/html": [
       "<div>\n",
       "<style scoped>\n",
       "    .dataframe tbody tr th:only-of-type {\n",
       "        vertical-align: middle;\n",
       "    }\n",
       "\n",
       "    .dataframe tbody tr th {\n",
       "        vertical-align: top;\n",
       "    }\n",
       "\n",
       "    .dataframe thead th {\n",
       "        text-align: right;\n",
       "    }\n",
       "</style>\n",
       "<table border=\"1\" class=\"dataframe\">\n",
       "  <thead>\n",
       "    <tr style=\"text-align: right;\">\n",
       "      <th></th>\n",
       "      <th>text</th>\n",
       "      <th>polarity</th>\n",
       "    </tr>\n",
       "  </thead>\n",
       "  <tbody>\n",
       "    <tr>\n",
       "      <th>0</th>\n",
       "      <td>One of the other reviewers has mentioned that ...</td>\n",
       "      <td>1</td>\n",
       "    </tr>\n",
       "    <tr>\n",
       "      <th>1</th>\n",
       "      <td>A wonderful little production. &lt;br /&gt;&lt;br /&gt;The...</td>\n",
       "      <td>1</td>\n",
       "    </tr>\n",
       "    <tr>\n",
       "      <th>2</th>\n",
       "      <td>I thought this was a wonderful way to spend ti...</td>\n",
       "      <td>1</td>\n",
       "    </tr>\n",
       "    <tr>\n",
       "      <th>3</th>\n",
       "      <td>Basically there's a family where a little boy ...</td>\n",
       "      <td>-1</td>\n",
       "    </tr>\n",
       "    <tr>\n",
       "      <th>4</th>\n",
       "      <td>Petter Mattei's \"Love in the Time of Money\" is...</td>\n",
       "      <td>1</td>\n",
       "    </tr>\n",
       "  </tbody>\n",
       "</table>\n",
       "</div>"
      ],
      "text/plain": [
       "                                                text  polarity\n",
       "0  One of the other reviewers has mentioned that ...         1\n",
       "1  A wonderful little production. <br /><br />The...         1\n",
       "2  I thought this was a wonderful way to spend ti...         1\n",
       "3  Basically there's a family where a little boy ...        -1\n",
       "4  Petter Mattei's \"Love in the Time of Money\" is...         1"
      ]
     },
     "execution_count": 4,
     "metadata": {},
     "output_type": "execute_result"
    }
   ],
   "source": [
    "\n",
    "imdb_data.rename(columns={'sentiment' : 'polarity', 'review': 'text'}, inplace=True)\n",
    "imdb_data['polarity'] = imdb_data['polarity'].str.replace('positive', '1')\n",
    "imdb_data['polarity'] = imdb_data['polarity'].str.replace('negative', '-1')\n",
    "imdb_data['polarity'] = imdb_data['polarity'].astype(np.int64)\n",
    "\n",
    "imdb_data.head()"
   ]
  },
  {
   "cell_type": "code",
   "execution_count": 5,
   "metadata": {},
   "outputs": [
    {
     "name": "stdout",
     "output_type": "stream",
     "text": [
      "<class 'pandas.core.frame.DataFrame'>\n",
      "RangeIndex: 3599999 entries, 0 to 3599998\n",
      "Data columns (total 3 columns):\n",
      " #   Column                                                                                                                                                                                                                                                                                                                                                                                                      Dtype \n",
      "---  ------                                                                                                                                                                                                                                                                                                                                                                                                      ----- \n",
      " 0   2                                                                                                                                                                                                                                                                                                                                                                                                           int64 \n",
      " 1   Stuning even for the non-gamer                                                                                                                                                                                                                                                                                                                                                                              object\n",
      " 2   This sound track was beautiful! It paints the senery in your mind so well I would recomend it even to people who hate vid. game music! I have played the game Chrono Cross but out of all of the games I have ever played it has the best music! It backs away from crude keyboarding and takes a fresher step with grate guitars and soulful orchestras. It would impress anyone who cares to listen! ^_^  object\n",
      "dtypes: int64(1), object(2)\n",
      "memory usage: 82.4+ MB\n"
     ]
    }
   ],
   "source": [
    "amazon_data = pd.read_csv('amazon_dataset_sample.csv')\n",
    "amazon_data.info()"
   ]
  },
  {
   "cell_type": "code",
   "execution_count": 6,
   "metadata": {},
   "outputs": [
    {
     "data": {
      "text/html": [
       "<div>\n",
       "<style scoped>\n",
       "    .dataframe tbody tr th:only-of-type {\n",
       "        vertical-align: middle;\n",
       "    }\n",
       "\n",
       "    .dataframe tbody tr th {\n",
       "        vertical-align: top;\n",
       "    }\n",
       "\n",
       "    .dataframe thead th {\n",
       "        text-align: right;\n",
       "    }\n",
       "</style>\n",
       "<table border=\"1\" class=\"dataframe\">\n",
       "  <thead>\n",
       "    <tr style=\"text-align: right;\">\n",
       "      <th></th>\n",
       "      <th>polarity</th>\n",
       "      <th>text</th>\n",
       "    </tr>\n",
       "  </thead>\n",
       "  <tbody>\n",
       "    <tr>\n",
       "      <th>0</th>\n",
       "      <td>1</td>\n",
       "      <td>I'm reading a lot of reviews saying that this ...</td>\n",
       "    </tr>\n",
       "    <tr>\n",
       "      <th>1</th>\n",
       "      <td>1</td>\n",
       "      <td>This soundtrack is my favorite music of all ti...</td>\n",
       "    </tr>\n",
       "    <tr>\n",
       "      <th>2</th>\n",
       "      <td>1</td>\n",
       "      <td>I truly like this soundtrack and I enjoy video...</td>\n",
       "    </tr>\n",
       "    <tr>\n",
       "      <th>3</th>\n",
       "      <td>1</td>\n",
       "      <td>If you've played the game, you know how divine...</td>\n",
       "    </tr>\n",
       "    <tr>\n",
       "      <th>4</th>\n",
       "      <td>1</td>\n",
       "      <td>I am quite sure any of you actually taking the...</td>\n",
       "    </tr>\n",
       "  </tbody>\n",
       "</table>\n",
       "</div>"
      ],
      "text/plain": [
       "   polarity                                               text\n",
       "0         1  I'm reading a lot of reviews saying that this ...\n",
       "1         1  This soundtrack is my favorite music of all ti...\n",
       "2         1  I truly like this soundtrack and I enjoy video...\n",
       "3         1  If you've played the game, you know how divine...\n",
       "4         1  I am quite sure any of you actually taking the..."
      ]
     },
     "execution_count": 6,
     "metadata": {},
     "output_type": "execute_result"
    }
   ],
   "source": [
    "amazon_data.columns = ['polarity', 'title', 'text']\n",
    "amazon_data.drop(columns=['title'], inplace=True)\n",
    "amazon_data['polarity'] = amazon_data['polarity'].astype(str)\n",
    "amazon_data['polarity'] = amazon_data['polarity'].str.replace('1', '-1')\n",
    "amazon_data['polarity'] = amazon_data['polarity'].str.replace('2', '1')\n",
    "amazon_data['polarity'] = amazon_data['polarity'].astype(np.int64)\n",
    "amazon_data.head()"
   ]
  },
  {
   "cell_type": "code",
   "execution_count": 7,
   "metadata": {},
   "outputs": [
    {
     "name": "stdout",
     "output_type": "stream",
     "text": [
      "<class 'pandas.core.frame.DataFrame'>\n",
      "RangeIndex: 5249998 entries, 0 to 5249997\n",
      "Data columns (total 2 columns):\n",
      " #   Column    Dtype \n",
      "---  ------    ----- \n",
      " 0   polarity  int64 \n",
      " 1   text      object\n",
      "dtypes: int64(1), object(1)\n",
      "memory usage: 80.1+ MB\n"
     ]
    }
   ],
   "source": [
    "data = pd.concat([sentiment_140_data, imdb_data, amazon_data], ignore_index=True)\n",
    "data.info()"
   ]
  },
  {
   "cell_type": "markdown",
   "metadata": {},
   "source": [
    "# Data Preprocessing\n",
    "Preprocessing the data involved several critical steps to clean and prepare the text for analysis:\n",
    "\n",
    "Handling Missing Values: Any missing values in the text data were filled with an empty string to avoid errors during processing.\n",
    "Text Normalization: Text was converted to lowercase, contractions were expanded, and URLs, mentions, hashtags, non-word characters, sequences of underscores or dashes, and multiple spaces were removed using regular expressions.\n",
    "Tokenization and Lemmatization: Text was tokenized into words, stop words were removed, and words were lemmatized to their base forms to standardize the text and reduce dimensionality.\n",
    "Parallel processing was employed to expedite the preprocessing steps, utilizing multiple CPU cores to handle the large volume of text data efficiently."
   ]
  },
  {
   "cell_type": "code",
   "execution_count": 8,
   "metadata": {},
   "outputs": [],
   "source": [
    "stop_words = set(stopwords.words('english')) # Initialize stop words\n",
    "lemmatizer = WordNetLemmatizer()  # Initialize lemmatizer\n",
    "\n",
    "def preprocess_text(text, stop_words, lemmatizer):\n",
    "    text = text.lower()  # Lowercase\n",
    "    text = contractions.fix(text)  # Expand contractions\n",
    "    words = nltk.word_tokenize(text)\n",
    "    words = [lemmatizer.lemmatize(word) for word in words if word not in stop_words]  # use lemmatizer to reduce words to their base form and remove stopwords\n",
    "    return ' '.join(words)"
   ]
  },
  {
   "cell_type": "code",
   "execution_count": 9,
   "metadata": {},
   "outputs": [
    {
     "data": {
      "text/html": [
       "<div>\n",
       "<style scoped>\n",
       "    .dataframe tbody tr th:only-of-type {\n",
       "        vertical-align: middle;\n",
       "    }\n",
       "\n",
       "    .dataframe tbody tr th {\n",
       "        vertical-align: top;\n",
       "    }\n",
       "\n",
       "    .dataframe thead th {\n",
       "        text-align: right;\n",
       "    }\n",
       "</style>\n",
       "<table border=\"1\" class=\"dataframe\">\n",
       "  <thead>\n",
       "    <tr style=\"text-align: right;\">\n",
       "      <th></th>\n",
       "      <th>polarity</th>\n",
       "      <th>text</th>\n",
       "    </tr>\n",
       "  </thead>\n",
       "  <tbody>\n",
       "    <tr>\n",
       "      <th>0</th>\n",
       "      <td>-1</td>\n",
       "      <td>upset update facebook texting might cry result...</td>\n",
       "    </tr>\n",
       "    <tr>\n",
       "      <th>1</th>\n",
       "      <td>-1</td>\n",
       "      <td>dived many time ball managed save rest go bound</td>\n",
       "    </tr>\n",
       "    <tr>\n",
       "      <th>2</th>\n",
       "      <td>-1</td>\n",
       "      <td>whole body feel itchy like fire</td>\n",
       "    </tr>\n",
       "    <tr>\n",
       "      <th>3</th>\n",
       "      <td>-1</td>\n",
       "      <td>behaving mad see</td>\n",
       "    </tr>\n",
       "    <tr>\n",
       "      <th>4</th>\n",
       "      <td>-1</td>\n",
       "      <td>whole crew</td>\n",
       "    </tr>\n",
       "  </tbody>\n",
       "</table>\n",
       "</div>"
      ],
      "text/plain": [
       "   polarity                                               text\n",
       "0        -1  upset update facebook texting might cry result...\n",
       "1        -1    dived many time ball managed save rest go bound\n",
       "2        -1                    whole body feel itchy like fire\n",
       "3        -1                                   behaving mad see\n",
       "4        -1                                         whole crew"
      ]
     },
     "execution_count": 9,
     "metadata": {},
     "output_type": "execute_result"
    }
   ],
   "source": [
    "combined_pattern = r'http\\S+|www\\S+|https\\S+|\\@\\w+|\\#\\w+|[^\\w\\s]|[\\d]|[_\\-]+' # Regex to remove URLs, mentions, hashtags, non-word characters, sequences of underscores or dashes, multiple spaces and numbers\n",
    "\n",
    "# Apply preprocessing steps\n",
    "data['text'] = (\n",
    "    data['text']\n",
    "    .fillna('')  # Fill NaN values with an empty string\n",
    "    .str.replace(combined_pattern, '', regex=True)  # Remove unwanted characters\n",
    "    .str.replace(r'\\s+', ' ', regex=True)  # Remove multiple spaces\n",
    "    .str.strip()  # Trim leading and trailing spaces\n",
    ")\n",
    "\n",
    "processed_texts = Parallel(n_jobs=-1)(delayed(preprocess_text)(text, stop_words, lemmatizer) for text in data['text']) #Parallelize the preprocessing function\n",
    "\n",
    "\n",
    "data['text'] = processed_texts\n",
    "data.head()\n"
   ]
  },
  {
   "cell_type": "code",
   "execution_count": 10,
   "metadata": {},
   "outputs": [],
   "source": [
    "x = data['text']\n",
    "y = data['polarity']"
   ]
  },
  {
   "cell_type": "code",
   "execution_count": 83,
   "metadata": {},
   "outputs": [],
   "source": [
    "X_train, X_test, y_train, y_test = train_test_split(x, y, test_size=0.2, shuffle=True, random_state=10) # Shuffle and split the data into testing and training sets.\n",
    "\n",
    "pipeline = Pipeline([ # Define a pipeline with TfidfVectorizer and LogisticRegression\n",
    "    ('tfidf', TfidfVectorizer(ngram_range=(1, 3), token_pattern=r'\\b\\w+\\b')),\n",
    "    ('clf', LogisticRegression(max_iter=300, class_weight='balanced'))\n",
    "])\n",
    "\n",
    "param_space = { # Define parameter grid for Bayesian Optimization\n",
    "    'tfidf__max_features': [30000, 50000, 100000, 150000, 250000, 500000, 1000000],\n",
    "    \n",
    "}"
   ]
  },
  {
   "cell_type": "code",
   "execution_count": 85,
   "metadata": {},
   "outputs": [
    {
     "name": "stdout",
     "output_type": "stream",
     "text": [
      "Fitting 3 folds for each of 1 candidates, totalling 3 fits\n",
      "Fitting 3 folds for each of 1 candidates, totalling 3 fits\n",
      "Fitting 3 folds for each of 1 candidates, totalling 3 fits\n",
      "Fitting 3 folds for each of 1 candidates, totalling 3 fits\n",
      "Best parameters: OrderedDict([('tfidf__max_features', 1000000)])\n",
      "Best cross-validation score: 0.7855998371776601\n",
      "Test set accuracy: 0.7875909090909091\n",
      "Classification Report:\n",
      "              precision    recall  f1-score   support\n",
      "\n",
      "          -1       0.80      0.77      0.78    164959\n",
      "           1       0.78      0.80      0.79    165041\n",
      "\n",
      "    accuracy                           0.79    330000\n",
      "   macro avg       0.79      0.79      0.79    330000\n",
      "weighted avg       0.79      0.79      0.79    330000\n",
      "\n"
     ]
    },
    {
     "data": {
      "image/png": "[encoded data removed]",
      "text/plain": [
       "<Figure size 576x432 with 2 Axes>"
      ]
     },
     "metadata": {
      "needs_background": "light"
     },
     "output_type": "display_data"
    }
   ],
   "source": [
    "bayes_search = BayesSearchCV( # Perform Bayesian Optimization\n",
    "\n",
    "    pipeline, \n",
    "    param_space,\n",
    "    n_iter=4,  # Lower number of iterations due to smaller hyperparameter space\n",
    "    cv=3,\n",
    "    n_jobs=-1,\n",
    "    verbose=1\n",
    ")\n",
    "bayes_search.fit(X_train, y_train)\n",
    "\n",
    "# Print best parameters and score\n",
    "print(f\"Best parameters: {bayes_search.best_params_}\")\n",
    "print(f\"Best cross-validation score: {bayes_search.best_score_}\")\n",
    "\n",
    "# Evaluate on test set\n",
    "y_pred = bayes_search.predict(X_test)\n",
    "print(f\"Test set accuracy: {accuracy_score(y_test, y_pred)}\")\n",
    "print(\"Classification Report:\")\n",
    "print(classification_report(y_test, y_pred))\n",
    "\n",
    "# Confusion matrix plot\n",
    "plt.figure(figsize=(8, 6))\n",
    "sns.heatmap(confusion_matrix(y_test, y_pred), annot=True, fmt='d', cmap='Blues', xticklabels=['Negative', 'Positive'], yticklabels=['Negative', 'Positive'])\n",
    "plt.title(f'Confusion Matrix\\nAccuracy: {accuracy_score(y_test, y_pred):.2f}')\n",
    "plt.xlabel('Predicted')\n",
    "plt.ylabel('Actual')\n",
    "plt.show()"
   ]
  },
  {
   "cell_type": "markdown",
   "metadata": {},
   "source": [
    "Since the bayes search chose the highest possible value of max_features, I decided to vectorize again with 500,000 more max features and re-train the model."
   ]
  },
  {
   "cell_type": "code",
   "execution_count": 14,
   "metadata": {},
   "outputs": [],
   "source": [
    "\n",
    "X_train, X_test, y_train, y_test = train_test_split(x, y, test_size=0.2, shuffle=True, random_state=None)\n",
    "vectorizer = TfidfVectorizer(max_features=1500000,stop_words='english', ngram_range=(1, 3), token_pattern=r'\\b\\w+\\b')\n",
    "X_train_vec = vectorizer.fit_transform(X_train)\n",
    "X_test_vec = vectorizer.transform(X_test)\n"
   ]
  },
  {
   "cell_type": "code",
   "execution_count": 15,
   "metadata": {},
   "outputs": [
    {
     "name": "stdout",
     "output_type": "stream",
     "text": [
      "First 100 features: ['aa' 'aa aa' 'aa aa aa' 'aa aaa' 'aa aaa battery' 'aa alkaline'\n",
      " 'aa alkaline battery' 'aa bateries' 'aa battery' 'aa battery battery'\n",
      " 'aa battery charger' 'aa battery every' 'aa battery included'\n",
      " 'aa battery instead' 'aa battery last' 'aa battery like'\n",
      " 'aa battery pack' 'aa battery used' 'aa battery work' 'aa battery would'\n",
      " 'aa book' 'aa cell' 'aa last' 'aa mah' 'aa meeting' 'aa milne' 'aa nimh'\n",
      " 'aa nimh battery' 'aa program' 'aa rechargeable'\n",
      " 'aa rechargeable battery' 'aa step' 'aa would' 'aaa' 'aaa aa'\n",
      " 'aaa battery' 'aaa battery included' 'aaa battery instead'\n",
      " 'aaa battery last' 'aaa cell' 'aaa map' 'aaa nimh' 'aaa nimh battery'\n",
      " 'aaa rechargeable' 'aaa rechargeable battery' 'aaa remote' 'aaaa' 'aaaaa'\n",
      " 'aaaaaa' 'aaaaaaa' 'aaaaaaaa' 'aaaaaaaaah' 'aaaaaah' 'aaaaaand' 'aaaaah'\n",
      " 'aaaaand' 'aaaah' 'aaaahhh' 'aaaahhhh' 'aaaall' 'aaaand' 'aaaargh'\n",
      " 'aaaaw' 'aaah' 'aaahh' 'aaahhh' 'aaahhhh' 'aaahhhhh' 'aaand' 'aaargh'\n",
      " 'aaaw' 'aaaww' 'aaawww' 'aac' 'aachen' 'aacs' 'aacs high'\n",
      " 'aacs high profile' 'aad' 'aaf' 'aag' 'aagh' 'aah' 'aahh' 'aahhh'\n",
      " 'aahhhh' 'aahs' 'aahz' 'aaliyah' 'aaliyah fan' 'aaliyahs' 'aall' 'aalto'\n",
      " 'aam' 'aamc' 'aamir' 'aamir khan' 'aampd' 'aampe' 'aampw']\n"
     ]
    }
   ],
   "source": [
    "feature_names = vectorizer.get_feature_names_out()\n",
    "print(f\"First 100 features: {feature_names[:100]}\") # Print sample of features"
   ]
  },
  {
   "cell_type": "code",
   "execution_count": 16,
   "metadata": {},
   "outputs": [
    {
     "name": "stdout",
     "output_type": "stream",
     "text": [
      "Accuracy: 0.8539619047619048\n",
      "Confusion Matrix:\n",
      "[[444850  80257]\n",
      " [ 73083 451810]]\n",
      "Classification Report:\n",
      "              precision    recall  f1-score   support\n",
      "\n",
      "          -1       0.86      0.85      0.85    525107\n",
      "           1       0.85      0.86      0.85    524893\n",
      "\n",
      "    accuracy                           0.85   1050000\n",
      "   macro avg       0.85      0.85      0.85   1050000\n",
      "weighted avg       0.85      0.85      0.85   1050000\n",
      "\n"
     ]
    },
    {
     "data": {
      "image/png": "[encoded data removed]",
      "text/plain": [
       "<Figure size 576x432 with 2 Axes>"
      ]
     },
     "metadata": {
      "needs_background": "light"
     },
     "output_type": "display_data"
    }
   ],
   "source": [
    "model = LogisticRegression(max_iter=300)\n",
    "model.fit(X_train_vec, y_train)\n",
    "\n",
    "y_pred = model.predict(X_test_vec)\n",
    "\n",
    "print(f'Accuracy: {accuracy_score(y_test, y_pred)}')\n",
    "print('Confusion Matrix:')\n",
    "print(confusion_matrix(y_test, y_pred))\n",
    "print('Classification Report:')\n",
    "print(classification_report(y_test, y_pred))\n",
    "\n",
    "plt.figure(figsize=(8, 6))\n",
    "sns.heatmap(confusion_matrix(y_test, y_pred), annot=True, fmt='d', cmap='Blues', xticklabels=['Negative', 'Positive'], yticklabels=['Negative', 'Positive'])\n",
    "plt.title(f'Confusion Matrix\\nAccuracy: {accuracy_score(y_test, y_pred):.2f}')\n",
    "plt.xlabel('Predicted')\n",
    "plt.ylabel('Actual')\n",
    "plt.show()\n",
    "     "
   ]
  },
  {
   "cell_type": "markdown",
   "metadata": {},
   "source": [
    "## Results\n",
    "\n",
    "### Accuracy and Performance\n",
    "The final model was trained using a combined dataset of 5.25 million samples from the Sentiment 140 dataset, IMDB movie review dataset, and a subset of the Amazon review dataset. Using the `BayesSearchCV` for hyperparameter optimization, the best model achieved the following results:\n",
    "\n",
    "- **Test Set Accuracy**: 0.854"
   ]
  },
  {
   "cell_type": "markdown",
   "metadata": {},
   "source": [
    "## Limitations\n",
    "\n",
    "- **Computation Time**: The training and optimization of the model were time-consuming due to the large size of the dataset and the complexity of the `BayesSearchCV` optimization.\n",
    "- **Resource Intensive**: High memory usage was required for handling and processing the dataset, especially during the `TfidfVectorizer` and model training stages.\n",
    "- **Imbalanced Classes**: Some datasets (like the Amazon reviews) had imbalanced class distributions, which could affect the performance and bias of the model.\n",
    "\n",
    "## Conclusion\n",
    "\n",
    "In this project, we successfully implemented a sentiment analysis model using a combination of three large datasets. The model achieved an accuracy of 84% on the test set, demonstrating the effectiveness of combining multiple datasets and using advanced optimization techniques like Bayesian Optimization for hyperparameter tuning. While the results are promising, there is room for improvement, particularly in optimizing the preprocessing pipeline and exploring more sophisticated models.\n",
    "\n",
    "## Further Exploration\n",
    "\n",
    "- **Advanced Preprocessing**: Experiment with more advanced text preprocessing techniques, including handling negations and using word embeddings instead of TF-IDF vectors.\n",
    "- **Model Ensemble**: Combine multiple models (e.g., logistic regression, SVM, and neural networks) to create an ensemble model that could potentially improve performance.\n",
    "- **Deep Learning Models**: Explore the use of deep learning models such as LSTMs, GRUs, and transformers (e.g., BERT) for sentiment analysis.\n",
    "- **Data Augmentation**: Use data augmentation techniques to address class imbalance and improve the robustness of the model.\n",
    "- **Hyperparameter Optimization**: Conduct more extensive hyperparameter optimization with increased iterations or using other techniques like grid search or random search.\n",
    "- **Scalability**: Implement distributed computing techniques to handle larger datasets more efficiently and reduce computation time.\n"
   ]
  }
 ],
 "metadata": {
  "kernelspec": {
   "display_name": "Python 3",
   "language": "python",
   "name": "python3"
  },
  "language_info": {
   "codemirror_mode": {
    "name": "ipython",
    "version": 3
   },
   "file_extension": ".py",
   "mimetype": "text/x-python",
   "name": "python",
   "nbconvert_exporter": "python",
   "pygments_lexer": "ipython3",
   "version": "3.10.2"
  }
 },
 "nbformat": 4,
 "nbformat_minor": 2
}
